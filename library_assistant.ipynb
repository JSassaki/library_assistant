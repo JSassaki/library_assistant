{
  "cells": [
    {
      "cell_type": "markdown",
      "metadata": {
        "id": "view-in-github",
        "colab_type": "text"
      },
      "source": [
        "<a href=\"https://colab.research.google.com/github/JSassaki/library_assistant/blob/main/library_assistant.ipynb\" target=\"_parent\"><img src=\"https://colab.research.google.com/assets/colab-badge.svg\" alt=\"Open In Colab\"/></a>"
      ]
    },
    {
      "cell_type": "markdown",
      "source": [
        "# Assistente de biblioteca\n",
        "**Autor:** Jorge Sassaki | [Linkedin](www.linkedin.com/in/jsassaki) | [Github](https://github.com/JSassaki)\n",
        "\n",
        "O **objetivo** deste projeto é simples, **ajudar a recomendar livros para estudantes** baseado na entrada de um título de livro.\n",
        "\n",
        "O assistente identifica o livro e retorna o nome do autor, só por sanity check. Caso o nome do autor esteja errado, pode ser que o modelo esteja alucinando ou que tenha confundido o livro!\n",
        "\n",
        "Em seguida, dá a faixa etária mínima recomendada para o livro. Após isso, recomenda livros para diferentes faixas etárias que os estudantes podem ter. Isso serve para duas coisas:\n",
        "1.   Caso o estudante seja mais jovem que o recomendado, provê alternativas adequadas à faixa etária do estudante;\n",
        "2.   Caso o estudante tenha gostado de um livro e queira outros similares, provê alternativas também alternativas para ele.\n",
        "\n",
        "Este projetinho foi inspirado pela necessidade real de uma amiga bibliotecária, que sempre fica na dúvida se alguma obra é adequada para a idade dos estudantes curiosos.\n",
        "\n",
        "**To-dos:**\n",
        "*   **Evitar que o modelo retorne o mesmo livro múltiplas vezes.** Por vezes, o modelo repete o livro em línguas diferentes, ou recomenda o mesmo livro para duas faixas etárias.\n",
        "*   **Adicionar mais controles para a consulta.** No momento, a única entrada é o título do livro. Quero adicionar mais opções como gêneros, movimento literário, para filtrar melhor as recomendações.\n",
        "*   **Melhorias de interface.**\n",
        "\n",
        "**Problemas conhecidos:**\n",
        "*    O retorno do gemini pode vir com \"*finish_reason:* 5\", sem resultado.\n",
        "*    O modelo tem tendência a recomendar livros com uma temática similar, mas sem levar em conta os outros temas do livro.\n",
        "   *   Por exemplo: Heartstopper, um livro sobre romance adolescente, que trata temas como família e identidade. Um dos livros recomendados foi Anne Frank, não está completamente errado, mas a \"vibe\" é completamente diferente.\n",
        "*   Para idades menores, o modelo parece ter um viés em recomendar Ziraldo e O Pequeno Príncipe. São excelentes recomendações, mas fica repetitivo.\n",
        "*   Por algum motivo, a integração com o gradio só parece funcionar se estiver em modo debug."
      ],
      "metadata": {
        "id": "bWIBWazzSS_t"
      }
    },
    {
      "cell_type": "markdown",
      "metadata": {
        "id": "KCFF5VSTbcAR"
      },
      "source": [
        "## Inicialização do ambiente"
      ]
    },
    {
      "cell_type": "markdown",
      "metadata": {
        "id": "vRC2HngneEeQ"
      },
      "source": [
        "Instalação e importação dos pacotes necessários."
      ]
    },
    {
      "cell_type": "code",
      "execution_count": 2,
      "metadata": {
        "id": "9OEoeosRTv-5",
        "colab": {
          "base_uri": "https://localhost:8080/"
        },
        "outputId": "66d7f300-aa2c-47c4-a220-f27ae9ac4fbf"
      },
      "outputs": [
        {
          "output_type": "stream",
          "name": "stdout",
          "text": [
            "\u001b[2K     \u001b[90m━━━━━━━━━━━━━━━━━━━━━━━━━━━━━━━━━━━━━━━━\u001b[0m \u001b[32m12.3/12.3 MB\u001b[0m \u001b[31m19.5 MB/s\u001b[0m eta \u001b[36m0:00:00\u001b[0m\n",
            "\u001b[2K     \u001b[90m━━━━━━━━━━━━━━━━━━━━━━━━━━━━━━━━━━━━━━━━\u001b[0m \u001b[32m92.0/92.0 kB\u001b[0m \u001b[31m7.5 MB/s\u001b[0m eta \u001b[36m0:00:00\u001b[0m\n",
            "\u001b[?25h  Preparing metadata (setup.py) ... \u001b[?25l\u001b[?25hdone\n",
            "\u001b[2K     \u001b[90m━━━━━━━━━━━━━━━━━━━━━━━━━━━━━━━━━━━━━━━━\u001b[0m \u001b[32m315.5/315.5 kB\u001b[0m \u001b[31m20.8 MB/s\u001b[0m eta \u001b[36m0:00:00\u001b[0m\n",
            "\u001b[2K     \u001b[90m━━━━━━━━━━━━━━━━━━━━━━━━━━━━━━━━━━━━━━━━\u001b[0m \u001b[32m75.6/75.6 kB\u001b[0m \u001b[31m2.9 MB/s\u001b[0m eta \u001b[36m0:00:00\u001b[0m\n",
            "\u001b[2K     \u001b[90m━━━━━━━━━━━━━━━━━━━━━━━━━━━━━━━━━━━━━━━━\u001b[0m \u001b[32m142.5/142.5 kB\u001b[0m \u001b[31m4.8 MB/s\u001b[0m eta \u001b[36m0:00:00\u001b[0m\n",
            "\u001b[2K     \u001b[90m━━━━━━━━━━━━━━━━━━━━━━━━━━━━━━━━━━━━━━━━\u001b[0m \u001b[32m8.7/8.7 MB\u001b[0m \u001b[31m25.4 MB/s\u001b[0m eta \u001b[36m0:00:00\u001b[0m\n",
            "\u001b[2K     \u001b[90m━━━━━━━━━━━━━━━━━━━━━━━━━━━━━━━━━━━━━━━━\u001b[0m \u001b[32m47.2/47.2 kB\u001b[0m \u001b[31m4.1 MB/s\u001b[0m eta \u001b[36m0:00:00\u001b[0m\n",
            "\u001b[2K     \u001b[90m━━━━━━━━━━━━━━━━━━━━━━━━━━━━━━━━━━━━━━━━\u001b[0m \u001b[32m60.8/60.8 kB\u001b[0m \u001b[31m3.2 MB/s\u001b[0m eta \u001b[36m0:00:00\u001b[0m\n",
            "\u001b[2K     \u001b[90m━━━━━━━━━━━━━━━━━━━━━━━━━━━━━━━━━━━━━━━━\u001b[0m \u001b[32m129.9/129.9 kB\u001b[0m \u001b[31m7.5 MB/s\u001b[0m eta \u001b[36m0:00:00\u001b[0m\n",
            "\u001b[2K     \u001b[90m━━━━━━━━━━━━━━━━━━━━━━━━━━━━━━━━━━━━━━━━\u001b[0m \u001b[32m77.9/77.9 kB\u001b[0m \u001b[31m6.3 MB/s\u001b[0m eta \u001b[36m0:00:00\u001b[0m\n",
            "\u001b[2K     \u001b[90m━━━━━━━━━━━━━━━━━━━━━━━━━━━━━━━━━━━━━━━━\u001b[0m \u001b[32m58.3/58.3 kB\u001b[0m \u001b[31m4.1 MB/s\u001b[0m eta \u001b[36m0:00:00\u001b[0m\n",
            "\u001b[2K     \u001b[90m━━━━━━━━━━━━━━━━━━━━━━━━━━━━━━━━━━━━━━━━\u001b[0m \u001b[32m71.9/71.9 kB\u001b[0m \u001b[31m5.1 MB/s\u001b[0m eta \u001b[36m0:00:00\u001b[0m\n",
            "\u001b[2K     \u001b[90m━━━━━━━━━━━━━━━━━━━━━━━━━━━━━━━━━━━━━━━━\u001b[0m \u001b[32m53.2/53.2 kB\u001b[0m \u001b[31m3.6 MB/s\u001b[0m eta \u001b[36m0:00:00\u001b[0m\n",
            "\u001b[2K     \u001b[90m━━━━━━━━━━━━━━━━━━━━━━━━━━━━━━━━━━━━━━━━\u001b[0m \u001b[32m307.7/307.7 kB\u001b[0m \u001b[31m30.6 MB/s\u001b[0m eta \u001b[36m0:00:00\u001b[0m\n",
            "\u001b[2K     \u001b[90m━━━━━━━━━━━━━━━━━━━━━━━━━━━━━━━━━━━━━━━━\u001b[0m \u001b[32m341.4/341.4 kB\u001b[0m \u001b[31m34.3 MB/s\u001b[0m eta \u001b[36m0:00:00\u001b[0m\n",
            "\u001b[2K     \u001b[90m━━━━━━━━━━━━━━━━━━━━━━━━━━━━━━━━━━━━━━━━\u001b[0m \u001b[32m3.4/3.4 MB\u001b[0m \u001b[31m61.1 MB/s\u001b[0m eta \u001b[36m0:00:00\u001b[0m\n",
            "\u001b[2K     \u001b[90m━━━━━━━━━━━━━━━━━━━━━━━━━━━━━━━━━━━━━━━━\u001b[0m \u001b[32m1.3/1.3 MB\u001b[0m \u001b[31m64.5 MB/s\u001b[0m eta \u001b[36m0:00:00\u001b[0m\n",
            "\u001b[?25h  Building wheel for ffmpy (setup.py) ... \u001b[?25l\u001b[?25hdone\n",
            "\u001b[31mERROR: pip's dependency resolver does not currently take into account all the packages that are installed. This behaviour is the source of the following dependency conflicts.\n",
            "spacy 3.7.4 requires typer<0.10.0,>=0.3.0, but you have typer 0.12.3 which is incompatible.\n",
            "weasel 0.3.4 requires typer<0.10.0,>=0.3.0, but you have typer 0.12.3 which is incompatible.\u001b[0m\u001b[31m\n",
            "\u001b[0m"
          ]
        }
      ],
      "source": [
        "!pip install -q -U google-generativeai gradio"
      ]
    },
    {
      "cell_type": "code",
      "execution_count": 3,
      "metadata": {
        "id": "TS9l5igubpHO"
      },
      "outputs": [],
      "source": [
        "import pathlib\n",
        "import textwrap\n",
        "\n",
        "import google.generativeai as genai\n",
        "import gradio as gr\n",
        "\n",
        "from IPython.display import display\n",
        "from IPython.display import Markdown\n",
        "from google.colab import userdata\n",
        "\n",
        "# Não esqueça de autorizar o notebook a acessar sua chave\n",
        "GOOGLE_API_KEY=userdata.get('GOOGLE_API_KEY')\n",
        "genai.configure(api_key=GOOGLE_API_KEY)\n"
      ]
    },
    {
      "cell_type": "markdown",
      "source": [
        "## Implementação:"
      ],
      "metadata": {
        "id": "cmUN7eZbczXP"
      }
    },
    {
      "cell_type": "markdown",
      "source": [
        "Neste projeto, foi usado o few-shot prompt para exemplificar como o retorno deve ser formatado.\n",
        "\n",
        "As idades dos estudantes foram delimitados para garantir que haveriam recomendações para todas as idades, mas sem ficar verboso demais. As faixas foram estipuladas por uma bibliotecária.\n",
        "\n",
        "Movimentos literários como Naturalismo podem não ser recomendados para estudantes muito jovens, por isso também é pedido temas semelhantes.\n",
        "\n",
        "Foi necessário instruir o modelo a responder que desconhece o livro, para evitar alucinações, ou evitar respostas que não eram recomendações. Por exemplo, para o livro \"O Professor de Português Enlouqueceu de Vez\", o assistente dava dicas de como se comunicar com o professor, pois não conhecia o livro e achava ser uma prompt comum.\n",
        "\n",
        "Foi necessário limitar as travas do modelo para apenas \"block few\", pois livros naturalistas ou que tratam de racismo eram frequentemente bloqueados."
      ],
      "metadata": {
        "id": "GorczQocZYta"
      }
    },
    {
      "cell_type": "code",
      "source": [
        "system_instruction=\"\"\"Você auxilia um bibliotecário de uma escola a recomendar livros para os estudantes.\n",
        "Dado o nome de um livro, identifique o autor e indique a idade recomendada para sua leitura. Justifique a idade recomendada.\n",
        "Depois, aponte alternativas do mesmo movimento literária considerando as faixas etárias de 6-8; 9-11; 12-14 e 15-17.\n",
        "Caso o movimento não seja adequado para alguma faixa etária, recomende livros que abordam temas similares.\n",
        "Caso não conheça livro com o nome dado, diga em uma linha que não conhece o livro.\n",
        "Exemplos:\n",
        "---\n",
        "## O Senhor dos Anéis\n",
        "\n",
        "**Autor:** J.R.R. Tolkien\n",
        "\n",
        "**Idade recomendada:** 12-14 anos\n",
        "\n",
        "**Justificativa:** \"O Senhor dos Anéis\" é uma obra de alta fantasia com universo complexo, mitologia própria e linguagem elaborada em diversos momentos. A narrativa épica, com longas descrições e batalhas, exige certa maturidade e capacidade de acompanhar tramas paralelas e desenvolvimento de personagens. Apesar de conter elementos que atraem leitores mais jovens, como aventura e magia, a densidade da obra a torna mais adequada para leitores a partir de 12 anos, que já possuem maior capacidade de concentração e compreensão de temas como amizade, lealdade, corrupção e poder.\n",
        "\n",
        "**Alternativas por faixa etária:**\n",
        "\n",
        "**6-8 anos:** Obras com fantasia, aventura e linguagem simples são ideais.\n",
        "\n",
        "* **Onde Vivem os Monstros (Maurice Sendak):** Uma criança explora seus sentimentos através da fantasia, encontrando monstros que representam seus medos e frustrações.\n",
        "* **A História Interminável (Michael Ende):** Um garoto se refugia em um livro mágico e precisa salvar o mundo da fantasia.\n",
        "\n",
        "**9-11 anos:** Aventuras com personagens cativantes e temas como amizade e coragem, introduzindo elementos de fantasia mais elaborados.\n",
        "\n",
        "* **As Crônicas de Nárnia (C.S. Lewis):** Irmãos descobrem um mundo mágico dentro de um guarda-roupa e vivem grandes aventuras.\n",
        "* **Percy Jackson e o Ladrão de Raios (Rick Riordan):** Um garoto descobre ser filho de um deus grego e embarca em uma jornada para salvar o Olimpo.\n",
        "\n",
        "**12-14 anos:**  Fantasia com universos complexos, personagens bem desenvolvidos e temas mais maduros, como o amadurecimento, a perda e o heroísmo.\n",
        "\n",
        "* **Eragon (Christopher Paolini):** Um jovem encontra um ovo de dragão e se torna um Cavaleiro de Dragão, lutando contra um rei tirano.\n",
        "* **A Bússola de Ouro (Philip Pullman):** Uma garota viaja por universos paralelos em uma aventura que questiona o poder e a liberdade.\n",
        "\n",
        "**15-17 anos:** Obras de fantasia épica com temas complexos, personagens densos e linguagem elaborada, explorando questões políticas, sociais e filosóficas.\n",
        "\n",
        "* **Crônicas Saxônicas (Bernard Cornwell):** Jovem saxão criado por vikings precisa escolher um lado durante a invasão viking na Inglaterra.\n",
        "* **O Nome do Vento (Patrick Rothfuss):** Um herói lendário narra sua vida, cheia de magia, aventura e tragédia.\n",
        "\n",
        "---\n",
        "## O Cortiço\n",
        "**Autor:** Aluísio Azevedo\n",
        "\n",
        "**Idade recomendada:** 15-17 anos\n",
        "\n",
        "**Justificativa:** \"O Cortiço\" é uma obra naturalista que retrata a realidade crua e brutal da vida no Rio de Janeiro do final do século XIX. A obra aborda temas como pobreza, violência, exploração, alcoolismo, adultério e racismo de forma explícita e, por vezes, chocante. A linguagem utilizada também apresenta termos chulos e descrições naturalistas do corpo e de seus processos, o que pode ser inadequado para leitores mais jovens. A complexidade social retratada e a crítica social implícita na obra exigem maturidade e capacidade de análise por parte do leitor, tornando-a mais adequada para estudantes a partir de 15 anos.\n",
        "\n",
        "**Alternativas por faixa etária:**\n",
        "\n",
        "**6-8 anos:** Dada a temática complexa e a linguagem utilizada em \"O Cortiço\", não é recomendado apresentar obras similares para essa faixa etária. Em vez disso, podemos oferecer livros que explorem a vida em comunidade e a importância da amizade:\n",
        "\n",
        "* **O Menino que Morava no Fim da Rua (Henriqueta Collins & Satoshi Kitamura):** Um menino tímido cria um mundo de fantasia para lidar com a solidão e faz um amigo especial.\n",
        "* **A Família Biscoito (Isabella Fiorentino):** Uma família de biscoitos demonstra a importância da união, do respeito e da amizade.\n",
        "**9-11 anos:** Ainda é cedo para abordar temas como os explorados em \"O Cortiço\" com essa faixa etária. Podemos apresentar livros que trabalhem a diversidade social e a empatia:\n",
        "\n",
        "* **Extraordinário (R.J. Palacio):** Um garoto com deformidade facial luta para ser aceito em sua escola e nos ensina sobre compaixão e amizade.\n",
        "* **A Menina que Roubava Livros (Markus Zusak):** Ambientada na Alemanha nazista, acompanhamos a história de uma menina que encontra conforto nos livros e na amizade em meio à guerra.\n",
        "**12-14 anos:** Podemos começar a introduzir obras que explorem a desigualdade social e a realidade brasileira, mas com abordagem mais leve e personagens cativantes:\n",
        "\n",
        "* **Capitães da Areia (Jorge Amado):** Um grupo de meninos de rua luta pela sobrevivência em Salvador, revelando a pobreza e a violência que enfrentam.\n",
        "* **Vidas Secas (Graciliano Ramos):** Uma família de retirantes enfrenta a seca e a miséria no sertão nordestino, retratando a realidade social da época.\n",
        "**15-17 anos:** É possível apresentar obras que explorem o Naturalismo e retratem a realidade social brasileira de forma mais crua e crítica:\n",
        "\n",
        "* **Dom Casmurro (Machado de Assis):** Um clássico da literatura brasileira que levanta questões sobre ciúmes, traição e a complexidade das relações humanas.\n",
        "* **O Mulato (Aluísio Azevedo):** Uma obra que denuncia o racismo e a hipocrisia da sociedade maranhense do século XIX.\n",
        "\n",
        "---\n",
        "## Crepúsculo\n",
        "**Autor:** Stephenie Meyer\n",
        "\n",
        "**Idade recomendada:** 12-14 anos\n",
        "\n",
        "**Justificativa:** \"Crepúsculo\" é uma obra de fantasia romântica que aborda temas como amor, imortalidade e a busca pela identidade. A linguagem é acessível e a narrativa focada no romance atrai principalmente jovens leitores. Apesar de conter elementos sobrenaturais, a trama gira em torno de conflitos adolescentes e a descoberta do primeiro amor, tornando-a adequada para leitores a partir de 12 anos, que já se identificam com tais temas.\n",
        "\n",
        "**Alternativas por faixa etária:**\n",
        "\n",
        "**6-8 anos:** Fantasia com foco em amizade e aventura, com linguagem simples e temas adequados à faixa etária.\n",
        "\n",
        "    * **O Pequeno Príncipe (Antoine de Saint-Exupéry):** Um piloto perdido no deserto encontra um príncipe de outro planeta, aprendendo sobre amor, amizade e a importância de se importar com os outros.\n",
        "    * **A Menina e o Unicórnio (Peter S. Beagle):** Uma garota solitária encontra um unicórnio e embarca em uma jornada mágica em busca de outros de sua espécie.\n",
        "**9-11 anos:** Aventuras com protagonistas jovens, temas como amizade e coragem, introduzindo elementos de romance e fantasia.\n",
        "\n",
        "* **Matilda (Roald Dahl):** Uma menina com inteligência excepcional enfrenta desafios em casa e na escola, usando seus poderes para se defender e proteger seus amigos.\n",
        "* **Ponte para Terabítia (Katherine Paterson):** Dois amigos criam um mundo mágico na floresta para lidar com os desafios da vida real, explorando temas como amizade, perda e imaginação.\n",
        "**12-14 anos:** Obras de fantasia com protagonistas adolescentes, explorando temas como amor, identidade e relacionamentos, com elementos de suspense e mistério.\n",
        "\n",
        "* **Diários de um Vampiro (L.J. Smith):** Uma adolescente se apaixona por um vampiro, vivenciando um triângulo amoroso e descobrindo segredos sobrenaturais.\n",
        "* **A Seleção (Kiera Cass):** Em um futuro distópico, 35 garotas competem pela mão do príncipe, explorando temas como amor, poder e desigualdade social.\n",
        "**15-17 anos:** Obras de fantasia com temas mais complexos, como a natureza humana, o livre arbítrio e a moralidade, com narrativas envolventes e personagens densos.\n",
        "\n",
        "* **O Morro dos Ventos Uivantes (Emily Brontë):** Uma história de amor obsessivo e vingança ambientada nas charnecas da Inglaterra, explorando temas como paixão, isolamento e tragédia.\n",
        "* **A Princesa Prometida (William Goldman):** Uma história clássica de amor, aventura e humor, que satiriza os contos de fadas e apresenta personagens memoráveis.\n",
        "\"\"\"\n",
        "safety_settings={\n",
        "    \"HARASSMENT\": \"BLOCK_ONLY_HIGH\",\n",
        "    \"HATE\": \"BLOCK_ONLY_HIGH\",\n",
        "    \"SEXUAL\": \"BLOCK_ONLY_HIGH\",\n",
        "    \"DANGEROUS\": \"BLOCK_ONLY_HIGH\"\n",
        "}\n",
        "model = genai.GenerativeModel('gemini-1.5-pro-latest',\n",
        "                              system_instruction=system_instruction,\n",
        "                              safety_settings=safety_settings)"
      ],
      "metadata": {
        "id": "FZyOD0bw5w-Y"
      },
      "execution_count": 4,
      "outputs": []
    },
    {
      "cell_type": "code",
      "source": [
        "def ask_gemini(Livro):\n",
        "    \"\"\"\n",
        "    Simplesmente faz a consulta com o gemini e retorna o output do modelo ou um erro.\n",
        "    Inputs:\n",
        "      Livro: String do nome do livro consultado.\n",
        "\n",
        "    Outputs: String no formato markdown.\n",
        "    \"\"\"\n",
        "    try:\n",
        "        response=model.generate_content(Livro)\n",
        "        return response.text\n",
        "    except:\n",
        "        # Caso o retorno venha vazio ou haja algum problema na conexão com o modelo\n",
        "        return \"Ocorreu um erro, tente novamente.\""
      ],
      "metadata": {
        "id": "eYrIXvK9fWV9"
      },
      "execution_count": 7,
      "outputs": []
    },
    {
      "cell_type": "code",
      "source": [
        "with gr.Blocks() as demo:\n",
        "    gr.Markdown(\"\"\"# Assistente de biblioteca\n",
        "    Insira o nome do livro a ser consultado, de preferência completo.\n",
        "\n",
        "    O Assistente identifica o autor para confirmar se o livro está correto, e dá idade recomendada para o livro com uma justificativa.\n",
        "\n",
        "    Caso o aluno seja jovem demais, ou esteja procurando livros similares para sua idade, também retorna recomendações para faixas etárias dos 6 aos 17 anos.\n",
        "\n",
        "    Este assistente responde com o uso de IA e podem ocorrer erros. É recomendado o uso da experiência e bom-senso do usuário ao repassar as recomendações aos estudantes.\n",
        "\n",
        "    \"\"\")\n",
        "    book = gr.Textbox(label=\"Nome do livro\")\n",
        "    rec_btn = gr.Button(\"Recomendar\")\n",
        "    output = gr.Markdown(label=\"Recomendação\")\n",
        "    rec_btn.click(fn=ask_gemini, inputs=book, outputs=output, api_name=\"Recomendar\")\n",
        "\n",
        "demo.launch(debug=True) # por algum motivo só funciona em modo debug"
      ],
      "metadata": {
        "id": "et0OosORPl2O",
        "colab": {
          "base_uri": "https://localhost:8080/",
          "height": 626
        },
        "outputId": "2a76c204-f47e-4846-f090-4d07372bd670"
      },
      "execution_count": null,
      "outputs": [
        {
          "output_type": "stream",
          "name": "stdout",
          "text": [
            "Setting queue=True in a Colab notebook requires sharing enabled. Setting `share=True` (you can turn this off by setting `share=False` in `launch()` explicitly).\n",
            "\n",
            "Colab notebook detected. This cell will run indefinitely so that you can see errors and logs. To turn off, set debug=False in launch().\n",
            "Running on public URL: https://db6b6d4f41a8564ef8.gradio.live\n",
            "\n",
            "This share link expires in 72 hours. For free permanent hosting and GPU upgrades, run `gradio deploy` from Terminal to deploy to Spaces (https://huggingface.co/spaces)\n"
          ]
        },
        {
          "output_type": "display_data",
          "data": {
            "text/plain": [
              "<IPython.core.display.HTML object>"
            ],
            "text/html": [
              "<div><iframe src=\"https://db6b6d4f41a8564ef8.gradio.live\" width=\"100%\" height=\"500\" allow=\"autoplay; camera; microphone; clipboard-read; clipboard-write;\" frameborder=\"0\" allowfullscreen></iframe></div>"
            ]
          },
          "metadata": {}
        }
      ]
    },
    {
      "cell_type": "code",
      "source": [],
      "metadata": {
        "id": "LDJC4FyPUgAm"
      },
      "execution_count": null,
      "outputs": []
    }
  ],
  "metadata": {
    "colab": {
      "provenance": [],
      "include_colab_link": true
    },
    "google": {
      "image_path": "/static/site-assets/images/docs/logo-python.svg",
      "keywords": [
        "examples",
        "gemini",
        "beginner",
        "googleai",
        "quickstart",
        "python",
        "text",
        "chat",
        "vision",
        "embed"
      ]
    },
    "kernelspec": {
      "display_name": "Python 3",
      "name": "python3"
    }
  },
  "nbformat": 4,
  "nbformat_minor": 0
}